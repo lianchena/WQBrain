{
 "cells": [
  {
   "cell_type": "code",
   "execution_count": null,
   "id": "fed09fc5",
   "metadata": {},
   "outputs": [],
   "source": [
    "'''\n",
    "Class1: 开营第一课 - 量化化行业初探及基本概念  \n",
    "熟悉BRAIN平台使用方式与指标、两类Alpha策略，可以使用API登录平台\n",
    "周四4月 17日20：30-21：30\n",
    "LiWeiJie HuangKai\n",
    "AGENDA\n",
    "1. Program Description\n",
    "l. Key concept of Quant\n",
    "l. Platform Demo and Alpha Example.\n",
    "IV. Q&A Session\n",
    "ie.2024IQC\n",
    "中国大陆所有地方都可以，不需要限定城市\n",
    "第一你要在setting里自己划分训练集和测试集；第二iqc达到1w分后才有合并表现变化\n",
    "momentum 动量型 利润越高价格越高\n",
    "reversal 反转 否极泰来 均值回归\n",
    "liabilities/assets\n",
    "P&L 损益图\n",
    "Sharpe\n",
    "1.35\n",
    "Turnover\n",
    "1.75%\n",
    "Fitness\n",
    "1.09\n",
    "Returns年化收益率\n",
    "8.08%\n",
    "Drawdown\n",
    "6.20%\n",
    "Margin\n",
    "92.22‱\n",
    "\n",
    "https://support.worldquantbrain.com/hc/en-us/community/posts/31482217692567-2025%E5%B9%B4%E7%AC%AC%E4%B8%89%E6%9C%9F-%E9%9B%B6%E5%9F%BA%E7%A1%80%E5%AD%A6%E9%87%8F%E5%8C%96-%E7%B3%BB%E5%88%97%E8%AF%BE%E7%A8%8BCourse-1%E4%BD%9C%E4%B8%9A\n",
    "Day1课后作业:\n",
    "必做1：至少成功提交1个Alpha，展示截图\n",
    "必做2：学习平台上所有关键术语的计算公式，推荐合理使用ChatGPT等人工智能工具。挑选一个，并在Forum发布。\n",
    "模板：Decay: This performs a linear decay function over the past n days by combining today’s value with previous days’ decayed value.\n",
    "必做3：👉点击链接阅读：⭐ How BRAIN platform works | WorldQuant BRAIN,并回答以下问题：假设全市场共5个股票，收盘价(即close)分别为[5,15,66,85,25], Alpha表达式为\"-close'（注意负号),在Neutralization Setting为Market的情况下，请回答这五个股票各自的交易权重(weight)为多少？long count 和 short count为多少（即有几个股票被做多，几个股票被做空）？\n",
    "https://platform.worldquantbrain.com/learn/documentation/create-alphas/how-brain-platform-works?_gl=1*11p7epy*_gcl_au*MTk0MTMwNDI5MC4xNzQ0NzEwNDA0*_ga*MTc0NDcwNTMyODk4NDc5NDg2MTIwNzYyMmM4*_ga_FXKNEPLB1N*MTc0NDg5OTQwNS4yLjEuMTc0NDg5OTgxNC4wLjAuMA..\n",
    "必做4.  登陆成功的截图（显示USER ID即可）+ 回测一个Alpha + 回测出的Alpha的ID（截图）\n",
    "\n",
    "答：\n",
    "必做1：成功提交1个Alpha（截图）\n",
    "Submission Date: 04/17/2025EDT\n",
    "必做2：关键术语的计算公式\n",
    "Sharpe ratio = excess return / standard deviation = (return - risk-free rate)/σ\n",
    "Sharpe Ratio: The Sharpe ratio is a measure of return often used to compare the performance of asset by making an adjustment for risk, which measures the reward to total volatility trade-off.\n",
    "Sharpe ratio < 1 means that the risk of the asset isn’t offset by its return. If the Sharpe ratio is below 1, meaning that the percentages of excess returns are inferior to the volatility of the asset.\n",
    "必做3：\n",
    "Since we have only five stocks in our simulation universe, we’ve assumed to neutralize the stocks over the market.\n",
    "这五个股票各自的交易权重(weight)为 stock1: 0.2355, stock2: 0.1667, stock3: -0.1846, stock4: -0.3154, stock5: 0.0978.\n",
    "long count为3，即有3个股票被做多；short count为2，即有2个股票被做空。\n",
    "必做4：  登陆以及成功回测出的Alpha的ID（截图）\n",
    "user id: LC50633, alpha id: REdYzNd\n",
    "\n",
    "readings\n",
    "The group can be the entire market, but we can also perform this neutralization operation on sector, industry or subindustry groupings of stocks. Note that both the sum and the average of these new numbers are now zero. Also, the sum of positive values is equal to the sum of negative values.\n",
    "Equally distributed values between 0 and 1: xi=(i-1)/(n-1)\n",
    "Sum the absolute values of each row and find the sum, divide each row by this sum, which results in normalized values, the total absolute sum is 1. This vector called normalized vector of weights.\n",
    "Long-short market neutralization, and it is the backbone of creating these predictive models, or Alphas, on BRAIN. With this technique, a strategy can have the potential to be profitable regardless of the direction of the market.\n",
    "Perform the operations in Step 1 to Step 5 for each date in a several-year history span also called the In-sample period (IS) to get daily PnL generated for each day\n",
    "book size (total money invested in the portfolio)\n",
    "A NAN value would mean no weight is allocated to that instrument (i.e. no money is allocated). The percentage of your portfolio traded in a day (by dollar value) is called ‘turnover’. The turnover reported in simulation results is the average daily turnover over the simulation.\n",
    "not visible to us in the simulation window. That is called the out-of-sample, or the OS, period. After you submit an Alpha, several tests are run to analyze the Alpha’s performance in the OS period. An Alpha that passes both the in-sample and out-of-sample tests can be said to be a robust Alpha.\n",
    "decay is an important factor in reducing transaction costs or turnover, as it includes information from previous days, preventing the Alpha from being reactive.\n",
    "\n",
    "Neutralization：中性化，将alpha通过alpha=alpha-mean（alpha）公式进行转换，这样会有一部分alpha为正，另一部分alpha为负，全部alpha的总和为零，作用是保证多头和空头资金相同，没有净寸头，无论市场是涨还是跌都可以有部分可以对冲降低风险。\n",
    "老师你好，我是一名自学了一周多的新手，目前交了6个alpha，也收到并提交了consultant的申请。我之前只是自己炒过股但没有接触过量化，对量化没什么概念，目前我对一些Alpha模版的经济原理都是不知甚解，所以现在我打算深入学习用户阶段的operators、data fields和论坛里面提供的一些模版，在学习的同时因为我自身懂一些Coze的技术，我计划同步做一个辅助学习Alpha的智能体，初步功能是帮助分析Alpha公式的经济原理和提供优化意见，做好之后我可能会发布在论坛上，这个是允许的吗？\n",
    "\n",
    "extra:\n",
    "公众号：BRAIN智能助手、UP上升气流\n",
    "https://www.wmadvisors.com/\n",
    "https://platform.worldquantbrain.com/learn/documentation/discover-brain/introduction-brain-expression-language\n",
    "https://support.worldquantbrain.com/hc/en-us/profiles/12285040305687-WL13229\n",
    "https://support.worldquantbrain.com/hc/en-us/community/topics/12913416465431-%E4%B8%AD%E6%96%87%E8%AE%BA%E5%9D%9B\n",
    "欢迎大家加入BRAIN新手村，上一期新人培训已经结束，目前可以自学上期录播：\n",
    "《零基础学量化》录播课，解锁密码：BRAIN2024\n",
    "第一课：https://v.youku.com/v_show/id_XNjQ0NTQwMzU3Mg==.html?spm=a2hcb.playlist.page.9&playMode=pugv\n",
    "第二课：https://v.youku.com/v_show/id_XNjQ1Mjg5Mzk4NA==.html?spm=a2hcb.playlist.page.9&playMode=pugv\n",
    "第三课: https://v.youku.com/v_show/id_XNjQ1MjkwMDEwMA==.html?spm=a2hcb.playlist.page.9&playMode=pugv\n",
    "第四课：https://v.youku.com/v_show/id_XNjQ0NTQwMjA5Ng==.html\n",
    "录播课例子中CHN市场目前已经不对用户阶段开放，作业自行完成即可，不用提交。\n",
    "学习完录播课并完成顾问申请流程后，可正常参与后续线下顾问课程。\n",
    "学习过程中BRAIN相关问题可以私信“BRAIN智能助手” 公众号快速得到解答。\n",
    "整个过程中请及时关注邮箱查收通知和资料，有疑问请邮件至中国区官邮mainlandchina@worldquantbrain.com\n",
    "询问，回复通常需要一两天时间。\n",
    "群内鼓励讨论BRAIN相关内容，禁发广告。\n",
    "'''"
   ]
  },
  {
   "cell_type": "code",
   "execution_count": null,
   "id": "1cee763b",
   "metadata": {},
   "outputs": [],
   "source": [
    "'''\n",
    "https://platform.worldquantbrain.com/events\n",
    "Chapter 1: Overview of Quant and its Key Concepts\n",
    "Chapter 2: Write Your First Alpha* by our Fast Expression Language\n",
    "Chapter 3: Neutralization and Grouping\n",
    "Chapter 4: lmprove the Robustness of Your Alpha\n",
    "Chapter 5: Alpha* Machine: Embarking Your Journey as a Research Consultant\n",
    "Chapter 6: Alpha* Machine: Leveraging Alpha template to produce more signals\n",
    "'''"
   ]
  },
  {
   "cell_type": "code",
   "execution_count": null,
   "id": "0366610e",
   "metadata": {},
   "outputs": [],
   "source": [
    "'''\n",
    "Class2: 使用快速表达式写出第一个量化策略\n",
    "了解和使用运算符和数据集，并学习2个Alphas实例，可以使用API获取数据；目标在第三节课前平台达到一万分\n",
    "周一4月 21日20：30-21：30\n",
    "\n",
    "Class3: 中性化与分组：以经典的基本面策略为例\n",
    "PART1: 了解中性化的实现方式，如何从快速表达式转化为P&L，可以批量发送回测请求；\n",
    "PART2：兼职顾问介绍与顾问申请表填写指南，需第四节课前提交顾问申请问卷Questionnaire\n",
    "周四 4月 24日20：30-21：30\n",
    "\n",
    "Class4: 增加策略平稳与稳健性：以经典的量价策略为例\n",
    "通过提高Alphas的质量，避免Overfitting，提升OS分数，学习2个Alphas实例\n",
    "周一4月 28日20：30-21：30\n",
    "\n",
    "进阶培训PART1: 顾问ONLY：BRAIN API 框架精讲\n",
    "如何使用BRAIN API完成大规模回测开始赚取收益\n",
    "\n",
    "进阶培训PART2: 顾问ONLY：Machine Alpha实战\n",
    "使用Alpha Template进行精准的Alpha搜索\n",
    "'''"
   ]
  },
  {
   "cell_type": "code",
   "execution_count": null,
   "id": "ec1765ba",
   "metadata": {},
   "outputs": [
    {
     "name": "stdout",
     "output_type": "stream",
     "text": [
      "201\n",
      "{'user': {'id': 'LC50633'}, 'token': {'expiry': 14400.0}, 'permissions': ['TUTORIAL']}\n"
     ]
    }
   ],
   "source": [
    "import requests\n",
    "import json\n",
    "from os.path import expanduser\n",
    "from requests.auth import HTTPBasicAuth\n",
    "\n",
    "'''\n",
    "# Load credentials\n",
    "with open(expanduser('brain_credentials_copy.txt'))as f:\n",
    "    credentials= json.load(f)   \n",
    "# Extract username and password from the list\n",
    "username, password = credentials\n",
    "'''\n",
    "\n",
    "# Create a session object\n",
    "sess = requests.Session()\n",
    "\n",
    "# Set up basic authentication\n",
    "sess.auth=HTTPBasicAuth('@gmail.com', '==')\n",
    "\n",
    "# Send a PosT request to the API for authentication\n",
    "response =sess.post('https://api.worldquantbrain.com/authentication')\n",
    "\n",
    "# Print response status and content for debugging\n",
    "print(response.status_code)\n",
    "print(response.json())"
   ]
  },
  {
   "cell_type": "code",
   "execution_count": 11,
   "id": "74f7e0c3",
   "metadata": {},
   "outputs": [],
   "source": [
    "# 回测Alpha\n",
    "simulation_data = {\n",
    "    'type': 'REGULAR',\n",
    "    'settings': {\n",
    "        'instrumentType': 'EQUITY',\n",
    "        'region': 'USA',\n",
    "        'universe': 'TOP3000',\n",
    "        'delay': 1,\n",
    "        'decay': 0,\n",
    "        'neutralization': 'INDUSTRY',\n",
    "        'truncation': 0.08,\n",
    "        'pasteurization': 'ON',\n",
    "        'unitHandling': 'VERIFY',\n",
    "        'nanHandling': 'OFF',\n",
    "        'language': 'FASTEXPR',\n",
    "        'visualization': False,\n",
    "    },\n",
    "    'regular': 'liabilities/assets'  ##表达式\n",
    "}"
   ]
  },
  {
   "cell_type": "code",
   "execution_count": 12,
   "id": "6c623b9c",
   "metadata": {},
   "outputs": [],
   "source": [
    "from time import sleep\n",
    "sim_resp = sess.post(\n",
    "        \"https://api.worldquantbrain.com/simulations\",\n",
    "            json=simulation_data,\n",
    ")\n",
    "sim_progress_url= sim_resp.headers['Location']\n",
    "while True:\n",
    "        sim_progress_resp=sess.get(sim_progress_url)\n",
    "        retry_after_sec =float(sim_progress_resp.headers.get(\"Retry-After\",0))\n",
    "        if retry_after_sec ==0:# simulation done!\n",
    "         break\n",
    "        sleep(retry_after_sec)\n",
    "alpha_id = sim_progress_resp.json()[\"alpha\"]# the final simulation result"
   ]
  },
  {
   "cell_type": "code",
   "execution_count": 13,
   "id": "8a925bca",
   "metadata": {},
   "outputs": [
    {
     "data": {
      "text/plain": [
       "'REdYzNd'"
      ]
     },
     "execution_count": 13,
     "metadata": {},
     "output_type": "execute_result"
    }
   ],
   "source": [
    "alpha_id"
   ]
  },
  {
   "cell_type": "code",
   "execution_count": 14,
   "id": "581086e8",
   "metadata": {},
   "outputs": [
    {
     "name": "stdout",
     "output_type": "stream",
     "text": [
      "ALL JSON {'id': '3IsFS43AX4HAc52aZeW0bPN', 'type': 'REGULAR', 'settings': {'instrumentType': 'EQUITY', 'region': 'USA', 'universe': 'TOP3000', 'delay': 1, 'decay': 0, 'neutralization': 'INDUSTRY', 'truncation': 0.08, 'pasteurization': 'ON', 'unitHandling': 'VERIFY', 'nanHandling': 'OFF', 'maxTrade': 'OFF', 'language': 'FASTEXPR', 'visualization': False}, 'regular': 'liabilities/assets', 'status': 'COMPLETE', 'alpha': 'REdYzNd'}\n"
     ]
    }
   ],
   "source": [
    "print('ALL JSON',sim_progress_resp.json())"
   ]
  }
 ],
 "metadata": {
  "kernelspec": {
   "display_name": "Python 3",
   "language": "python",
   "name": "python3"
  },
  "language_info": {
   "codemirror_mode": {
    "name": "ipython",
    "version": 3
   },
   "file_extension": ".py",
   "mimetype": "text/x-python",
   "name": "python",
   "nbconvert_exporter": "python",
   "pygments_lexer": "ipython3",
   "version": "3.13.3"
  }
 },
 "nbformat": 4,
 "nbformat_minor": 5
}
